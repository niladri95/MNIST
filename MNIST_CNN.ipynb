{
  "nbformat": 4,
  "nbformat_minor": 0,
  "metadata": {
    "kernelspec": {
      "display_name": "Python 3",
      "language": "python",
      "name": "python3"
    },
    "language_info": {
      "codemirror_mode": {
        "name": "ipython",
        "version": 3
      },
      "file_extension": ".py",
      "mimetype": "text/x-python",
      "name": "python",
      "nbconvert_exporter": "python",
      "pygments_lexer": "ipython3",
      "version": "3.7.3"
    },
    "colab": {
      "name": "MNIST CNN.ipynb",
      "provenance": []
    },
    "accelerator": "GPU"
  },
  "cells": [
    {
      "cell_type": "code",
      "metadata": {
        "id": "u2Znshcq55K_",
        "colab_type": "code",
        "colab": {}
      },
      "source": [
        "import pandas as pd\n",
        "import numpy as np\n",
        "import seaborn as sns\n",
        "import tensorflow"
      ],
      "execution_count": 62,
      "outputs": []
    },
    {
      "cell_type": "code",
      "metadata": {
        "id": "7dZKAsXd55Lh",
        "colab_type": "code",
        "colab": {}
      },
      "source": [
        "from tensorflow.keras.datasets import mnist\n",
        "(x_train, y_train), (x_test, y_test) = mnist.load_data()"
      ],
      "execution_count": 63,
      "outputs": []
    },
    {
      "cell_type": "markdown",
      "metadata": {
        "id": "6K67QeNx55L4",
        "colab_type": "text"
      },
      "source": [
        "## VISUALIZING THE DATA"
      ]
    },
    {
      "cell_type": "code",
      "metadata": {
        "id": "IBKt9pvO55L8",
        "colab_type": "code",
        "colab": {
          "base_uri": "https://localhost:8080/",
          "height": 1000
        },
        "outputId": "5be61d43-9a60-49fa-c2cd-a3b8dc1ee8f5"
      },
      "source": [
        "single_data=x_train[0]\n",
        "single_data"
      ],
      "execution_count": 64,
      "outputs": [
        {
          "output_type": "execute_result",
          "data": {
            "text/plain": [
              "array([[  0,   0,   0,   0,   0,   0,   0,   0,   0,   0,   0,   0,   0,\n",
              "          0,   0,   0,   0,   0,   0,   0,   0,   0,   0,   0,   0,   0,\n",
              "          0,   0],\n",
              "       [  0,   0,   0,   0,   0,   0,   0,   0,   0,   0,   0,   0,   0,\n",
              "          0,   0,   0,   0,   0,   0,   0,   0,   0,   0,   0,   0,   0,\n",
              "          0,   0],\n",
              "       [  0,   0,   0,   0,   0,   0,   0,   0,   0,   0,   0,   0,   0,\n",
              "          0,   0,   0,   0,   0,   0,   0,   0,   0,   0,   0,   0,   0,\n",
              "          0,   0],\n",
              "       [  0,   0,   0,   0,   0,   0,   0,   0,   0,   0,   0,   0,   0,\n",
              "          0,   0,   0,   0,   0,   0,   0,   0,   0,   0,   0,   0,   0,\n",
              "          0,   0],\n",
              "       [  0,   0,   0,   0,   0,   0,   0,   0,   0,   0,   0,   0,   0,\n",
              "          0,   0,   0,   0,   0,   0,   0,   0,   0,   0,   0,   0,   0,\n",
              "          0,   0],\n",
              "       [  0,   0,   0,   0,   0,   0,   0,   0,   0,   0,   0,   0,   3,\n",
              "         18,  18,  18, 126, 136, 175,  26, 166, 255, 247, 127,   0,   0,\n",
              "          0,   0],\n",
              "       [  0,   0,   0,   0,   0,   0,   0,   0,  30,  36,  94, 154, 170,\n",
              "        253, 253, 253, 253, 253, 225, 172, 253, 242, 195,  64,   0,   0,\n",
              "          0,   0],\n",
              "       [  0,   0,   0,   0,   0,   0,   0,  49, 238, 253, 253, 253, 253,\n",
              "        253, 253, 253, 253, 251,  93,  82,  82,  56,  39,   0,   0,   0,\n",
              "          0,   0],\n",
              "       [  0,   0,   0,   0,   0,   0,   0,  18, 219, 253, 253, 253, 253,\n",
              "        253, 198, 182, 247, 241,   0,   0,   0,   0,   0,   0,   0,   0,\n",
              "          0,   0],\n",
              "       [  0,   0,   0,   0,   0,   0,   0,   0,  80, 156, 107, 253, 253,\n",
              "        205,  11,   0,  43, 154,   0,   0,   0,   0,   0,   0,   0,   0,\n",
              "          0,   0],\n",
              "       [  0,   0,   0,   0,   0,   0,   0,   0,   0,  14,   1, 154, 253,\n",
              "         90,   0,   0,   0,   0,   0,   0,   0,   0,   0,   0,   0,   0,\n",
              "          0,   0],\n",
              "       [  0,   0,   0,   0,   0,   0,   0,   0,   0,   0,   0, 139, 253,\n",
              "        190,   2,   0,   0,   0,   0,   0,   0,   0,   0,   0,   0,   0,\n",
              "          0,   0],\n",
              "       [  0,   0,   0,   0,   0,   0,   0,   0,   0,   0,   0,  11, 190,\n",
              "        253,  70,   0,   0,   0,   0,   0,   0,   0,   0,   0,   0,   0,\n",
              "          0,   0],\n",
              "       [  0,   0,   0,   0,   0,   0,   0,   0,   0,   0,   0,   0,  35,\n",
              "        241, 225, 160, 108,   1,   0,   0,   0,   0,   0,   0,   0,   0,\n",
              "          0,   0],\n",
              "       [  0,   0,   0,   0,   0,   0,   0,   0,   0,   0,   0,   0,   0,\n",
              "         81, 240, 253, 253, 119,  25,   0,   0,   0,   0,   0,   0,   0,\n",
              "          0,   0],\n",
              "       [  0,   0,   0,   0,   0,   0,   0,   0,   0,   0,   0,   0,   0,\n",
              "          0,  45, 186, 253, 253, 150,  27,   0,   0,   0,   0,   0,   0,\n",
              "          0,   0],\n",
              "       [  0,   0,   0,   0,   0,   0,   0,   0,   0,   0,   0,   0,   0,\n",
              "          0,   0,  16,  93, 252, 253, 187,   0,   0,   0,   0,   0,   0,\n",
              "          0,   0],\n",
              "       [  0,   0,   0,   0,   0,   0,   0,   0,   0,   0,   0,   0,   0,\n",
              "          0,   0,   0,   0, 249, 253, 249,  64,   0,   0,   0,   0,   0,\n",
              "          0,   0],\n",
              "       [  0,   0,   0,   0,   0,   0,   0,   0,   0,   0,   0,   0,   0,\n",
              "          0,  46, 130, 183, 253, 253, 207,   2,   0,   0,   0,   0,   0,\n",
              "          0,   0],\n",
              "       [  0,   0,   0,   0,   0,   0,   0,   0,   0,   0,   0,   0,  39,\n",
              "        148, 229, 253, 253, 253, 250, 182,   0,   0,   0,   0,   0,   0,\n",
              "          0,   0],\n",
              "       [  0,   0,   0,   0,   0,   0,   0,   0,   0,   0,  24, 114, 221,\n",
              "        253, 253, 253, 253, 201,  78,   0,   0,   0,   0,   0,   0,   0,\n",
              "          0,   0],\n",
              "       [  0,   0,   0,   0,   0,   0,   0,   0,  23,  66, 213, 253, 253,\n",
              "        253, 253, 198,  81,   2,   0,   0,   0,   0,   0,   0,   0,   0,\n",
              "          0,   0],\n",
              "       [  0,   0,   0,   0,   0,   0,  18, 171, 219, 253, 253, 253, 253,\n",
              "        195,  80,   9,   0,   0,   0,   0,   0,   0,   0,   0,   0,   0,\n",
              "          0,   0],\n",
              "       [  0,   0,   0,   0,  55, 172, 226, 253, 253, 253, 253, 244, 133,\n",
              "         11,   0,   0,   0,   0,   0,   0,   0,   0,   0,   0,   0,   0,\n",
              "          0,   0],\n",
              "       [  0,   0,   0,   0, 136, 253, 253, 253, 212, 135, 132,  16,   0,\n",
              "          0,   0,   0,   0,   0,   0,   0,   0,   0,   0,   0,   0,   0,\n",
              "          0,   0],\n",
              "       [  0,   0,   0,   0,   0,   0,   0,   0,   0,   0,   0,   0,   0,\n",
              "          0,   0,   0,   0,   0,   0,   0,   0,   0,   0,   0,   0,   0,\n",
              "          0,   0],\n",
              "       [  0,   0,   0,   0,   0,   0,   0,   0,   0,   0,   0,   0,   0,\n",
              "          0,   0,   0,   0,   0,   0,   0,   0,   0,   0,   0,   0,   0,\n",
              "          0,   0],\n",
              "       [  0,   0,   0,   0,   0,   0,   0,   0,   0,   0,   0,   0,   0,\n",
              "          0,   0,   0,   0,   0,   0,   0,   0,   0,   0,   0,   0,   0,\n",
              "          0,   0]], dtype=uint8)"
            ]
          },
          "metadata": {
            "tags": []
          },
          "execution_count": 64
        }
      ]
    },
    {
      "cell_type": "code",
      "metadata": {
        "id": "4qWMYcXO55Mb",
        "colab_type": "code",
        "colab": {
          "base_uri": "https://localhost:8080/",
          "height": 34
        },
        "outputId": "c6219b83-1215-4ba2-b04e-daf6541a575d"
      },
      "source": [
        "single_data.shape"
      ],
      "execution_count": 65,
      "outputs": [
        {
          "output_type": "execute_result",
          "data": {
            "text/plain": [
              "(28, 28)"
            ]
          },
          "metadata": {
            "tags": []
          },
          "execution_count": 65
        }
      ]
    },
    {
      "cell_type": "code",
      "metadata": {
        "id": "sk4L2bzh55Mx",
        "colab_type": "code",
        "colab": {
          "base_uri": "https://localhost:8080/",
          "height": 265
        },
        "outputId": "5792eef6-ac4e-4f2c-aa38-8954a30299bd"
      },
      "source": [
        "import matplotlib.pyplot as plt\n",
        "plt.imshow(single_data);"
      ],
      "execution_count": 66,
      "outputs": [
        {
          "output_type": "display_data",
          "data": {
            "image/png": "[encoded data removed]",
            "text/plain": [
              "<Figure size 432x288 with 1 Axes>"
            ]
          },
          "metadata": {
            "tags": [],
            "needs_background": "light"
          }
        }
      ]
    },
    {
      "cell_type": "markdown",
      "metadata": {
        "id": "IFCKrTM755M_",
        "colab_type": "text"
      },
      "source": [
        "## preprocessing label"
      ]
    },
    {
      "cell_type": "code",
      "metadata": {
        "id": "He2QB6Om55NC",
        "colab_type": "code",
        "colab": {
          "base_uri": "https://localhost:8080/",
          "height": 34
        },
        "outputId": "7cd391ee-0c49-48f0-eb96-e16797f35cb6"
      },
      "source": [
        "y_train.shape"
      ],
      "execution_count": 67,
      "outputs": [
        {
          "output_type": "execute_result",
          "data": {
            "text/plain": [
              "(60000,)"
            ]
          },
          "metadata": {
            "tags": []
          },
          "execution_count": 67
        }
      ]
    },
    {
      "cell_type": "code",
      "metadata": {
        "id": "8ZOp5PPm55NR",
        "colab_type": "code",
        "colab": {
          "base_uri": "https://localhost:8080/",
          "height": 34
        },
        "outputId": "423b4d9d-3777-4baf-fa35-83006a496005"
      },
      "source": [
        "y_test.shape"
      ],
      "execution_count": 68,
      "outputs": [
        {
          "output_type": "execute_result",
          "data": {
            "text/plain": [
              "(10000,)"
            ]
          },
          "metadata": {
            "tags": []
          },
          "execution_count": 68
        }
      ]
    },
    {
      "cell_type": "code",
      "metadata": {
        "id": "FKPhDUdY55Nm",
        "colab_type": "code",
        "colab": {}
      },
      "source": [
        "from tensorflow.keras.utils import to_categorical"
      ],
      "execution_count": 69,
      "outputs": []
    },
    {
      "cell_type": "code",
      "metadata": {
        "id": "k4v4EPUb55N0",
        "colab_type": "code",
        "colab": {}
      },
      "source": [
        "y_cat_train=to_categorical(y_train)"
      ],
      "execution_count": 70,
      "outputs": []
    },
    {
      "cell_type": "code",
      "metadata": {
        "id": "CtKjhJWz55OG",
        "colab_type": "code",
        "colab": {
          "base_uri": "https://localhost:8080/",
          "height": 34
        },
        "outputId": "56d2c45f-18dd-40d2-8969-66af6cc8b2ce"
      },
      "source": [
        "y_cat_train.shape"
      ],
      "execution_count": 71,
      "outputs": [
        {
          "output_type": "execute_result",
          "data": {
            "text/plain": [
              "(60000, 10)"
            ]
          },
          "metadata": {
            "tags": []
          },
          "execution_count": 71
        }
      ]
    },
    {
      "cell_type": "code",
      "metadata": {
        "id": "nquwFynX55OV",
        "colab_type": "code",
        "colab": {}
      },
      "source": [
        "y_cat_test=to_categorical(y_test)"
      ],
      "execution_count": 72,
      "outputs": []
    },
    {
      "cell_type": "code",
      "metadata": {
        "id": "YzjbFNwK55Om",
        "colab_type": "code",
        "colab": {
          "base_uri": "https://localhost:8080/",
          "height": 34
        },
        "outputId": "79e5578c-62da-4e08-c7e6-8e58612a854b"
      },
      "source": [
        "y_cat_test.shape"
      ],
      "execution_count": 73,
      "outputs": [
        {
          "output_type": "execute_result",
          "data": {
            "text/plain": [
              "(10000, 10)"
            ]
          },
          "metadata": {
            "tags": []
          },
          "execution_count": 73
        }
      ]
    },
    {
      "cell_type": "markdown",
      "metadata": {
        "id": "UXD7Yyo755Oy",
        "colab_type": "text"
      },
      "source": [
        "## preprocessing X data"
      ]
    },
    {
      "cell_type": "code",
      "metadata": {
        "id": "7XUyq4s955O0",
        "colab_type": "code",
        "colab": {
          "base_uri": "https://localhost:8080/",
          "height": 34
        },
        "outputId": "25024a6d-25db-4463-de51-faa97457ba58"
      },
      "source": [
        "x_train.max()"
      ],
      "execution_count": 74,
      "outputs": [
        {
          "output_type": "execute_result",
          "data": {
            "text/plain": [
              "255"
            ]
          },
          "metadata": {
            "tags": []
          },
          "execution_count": 74
        }
      ]
    },
    {
      "cell_type": "code",
      "metadata": {
        "id": "E02eVuas55PC",
        "colab_type": "code",
        "colab": {
          "base_uri": "https://localhost:8080/",
          "height": 34
        },
        "outputId": "dc9edd2a-3482-47f9-f544-30527c3ae28e"
      },
      "source": [
        "x_train.min()"
      ],
      "execution_count": 75,
      "outputs": [
        {
          "output_type": "execute_result",
          "data": {
            "text/plain": [
              "0"
            ]
          },
          "metadata": {
            "tags": []
          },
          "execution_count": 75
        }
      ]
    },
    {
      "cell_type": "code",
      "metadata": {
        "id": "sWEU50Hl55PS",
        "colab_type": "code",
        "colab": {}
      },
      "source": [
        "x_train=x_train/255"
      ],
      "execution_count": 76,
      "outputs": []
    },
    {
      "cell_type": "code",
      "metadata": {
        "id": "Npc2G0yj55Pt",
        "colab_type": "code",
        "colab": {
          "base_uri": "https://localhost:8080/",
          "height": 34
        },
        "outputId": "6ce87034-db1e-48d5-dc3a-d50c0b30f13a"
      },
      "source": [
        "example=x_train[25]\n",
        "example.max()"
      ],
      "execution_count": 77,
      "outputs": [
        {
          "output_type": "execute_result",
          "data": {
            "text/plain": [
              "1.0"
            ]
          },
          "metadata": {
            "tags": []
          },
          "execution_count": 77
        }
      ]
    },
    {
      "cell_type": "code",
      "metadata": {
        "id": "gJALxClH55P7",
        "colab_type": "code",
        "colab": {
          "base_uri": "https://localhost:8080/",
          "height": 34
        },
        "outputId": "d3817c56-dc82-421d-bf85-968ca31d5e5e"
      },
      "source": [
        "example.min()"
      ],
      "execution_count": 78,
      "outputs": [
        {
          "output_type": "execute_result",
          "data": {
            "text/plain": [
              "0.0"
            ]
          },
          "metadata": {
            "tags": []
          },
          "execution_count": 78
        }
      ]
    },
    {
      "cell_type": "code",
      "metadata": {
        "id": "GVrjEIe655QK",
        "colab_type": "code",
        "colab": {
          "base_uri": "https://localhost:8080/",
          "height": 282
        },
        "outputId": "faa0494e-e788-4472-a80d-5c4bed32e909"
      },
      "source": [
        "plt.imshow(example)\n"
      ],
      "execution_count": 79,
      "outputs": [
        {
          "output_type": "execute_result",
          "data": {
            "text/plain": [
              "<matplotlib.image.AxesImage at 0x7fc83a0926a0>"
            ]
          },
          "metadata": {
            "tags": []
          },
          "execution_count": 79
        },
        {
          "output_type": "display_data",
          "data": {
            "image/png": "[encoded data removed]",
            "text/plain": [
              "<Figure size 432x288 with 1 Axes>"
            ]
          },
          "metadata": {
            "tags": [],
            "needs_background": "light"
          }
        }
      ]
    },
    {
      "cell_type": "code",
      "metadata": {
        "id": "q9cwOzaV55Qd",
        "colab_type": "code",
        "colab": {
          "base_uri": "https://localhost:8080/",
          "height": 34
        },
        "outputId": "bc8a420c-bfad-4080-9882-0776b0798952"
      },
      "source": [
        "x_train.shape"
      ],
      "execution_count": 80,
      "outputs": [
        {
          "output_type": "execute_result",
          "data": {
            "text/plain": [
              "(60000, 28, 28)"
            ]
          },
          "metadata": {
            "tags": []
          },
          "execution_count": 80
        }
      ]
    },
    {
      "cell_type": "code",
      "metadata": {
        "id": "8m1lf7xB55Qr",
        "colab_type": "code",
        "colab": {
          "base_uri": "https://localhost:8080/",
          "height": 34
        },
        "outputId": "1edae27a-3853-4f5c-99d6-7e8d8f33ce01"
      },
      "source": [
        "x_test.shape"
      ],
      "execution_count": 81,
      "outputs": [
        {
          "output_type": "execute_result",
          "data": {
            "text/plain": [
              "(10000, 28, 28)"
            ]
          },
          "metadata": {
            "tags": []
          },
          "execution_count": 81
        }
      ]
    },
    {
      "cell_type": "code",
      "metadata": {
        "id": "AhFWxYaG55Q3",
        "colab_type": "code",
        "colab": {}
      },
      "source": [
        "x_train=x_train.reshape(60000, 28, 28,1)\n",
        "x_test=x_test.reshape(10000, 28, 28,1)"
      ],
      "execution_count": 82,
      "outputs": []
    },
    {
      "cell_type": "markdown",
      "metadata": {
        "id": "asSSwdpJ55RJ",
        "colab_type": "text"
      },
      "source": [
        "# model"
      ]
    },
    {
      "cell_type": "code",
      "metadata": {
        "id": "QJ4JSj2m55RL",
        "colab_type": "code",
        "colab": {}
      },
      "source": [
        "from tensorflow.keras.models import Sequential\n",
        "from tensorflow.keras.layers import Dense, Conv2D, MaxPool2D, Flatten,Dropout\n",
        "from tensorflow.keras.callbacks import ReduceLROnPlateau"
      ],
      "execution_count": 83,
      "outputs": []
    },
    {
      "cell_type": "code",
      "metadata": {
        "id": "cXLzLXaF55Rp",
        "colab_type": "code",
        "colab": {}
      },
      "source": [
        "model = Sequential()\n",
        "\n",
        "#  set of layer\n",
        "model.add(Conv2D(filters=32, kernel_size=(4,4),input_shape=(28, 28, 1), activation='relu',))\n",
        "model.add(MaxPool2D(pool_size=(2, 2)))\n",
        "model.add(Dropout(0.25))\n",
        "\n",
        "# FLATTEN IMAGES FROM 28 by 28 to 764 BEFORE FINAL LAYER\n",
        "model.add(Flatten())\n",
        "\n",
        "# 128 NEURONS IN DENSE HIDDEN LAYER \n",
        "model.add(Dense(128, activation='relu'))\n",
        "\n",
        "# 10 POSSIBLE CLASSES\n",
        "model.add(Dense(10, activation='softmax'))\n",
        "\n",
        "model.compile(loss='categorical_crossentropy',\n",
        "              optimizer='adam',\n",
        "              metrics=['accuracy']) "
      ],
      "execution_count": 84,
      "outputs": []
    },
    {
      "cell_type": "code",
      "metadata": {
        "id": "uQ7mZiYA55R3",
        "colab_type": "code",
        "colab": {
          "base_uri": "https://localhost:8080/",
          "height": 353
        },
        "outputId": "edabaf15-164b-4a05-908f-a278c20e91f5"
      },
      "source": [
        "model.summary()"
      ],
      "execution_count": 85,
      "outputs": [
        {
          "output_type": "stream",
          "text": [
            "Model: \"sequential_7\"\n",
            "_________________________________________________________________\n",
            "Layer (type)                 Output Shape              Param #   \n",
            "=================================================================\n",
            "conv2d_25 (Conv2D)           (None, 25, 25, 32)        544       \n",
            "_________________________________________________________________\n",
            "max_pooling2d_13 (MaxPooling (None, 12, 12, 32)        0         \n",
            "_________________________________________________________________\n",
            "dropout_19 (Dropout)         (None, 12, 12, 32)        0         \n",
            "_________________________________________________________________\n",
            "flatten_7 (Flatten)          (None, 4608)              0         \n",
            "_________________________________________________________________\n",
            "dense_14 (Dense)             (None, 128)               589952    \n",
            "_________________________________________________________________\n",
            "dense_15 (Dense)             (None, 10)                1290      \n",
            "=================================================================\n",
            "Total params: 591,786\n",
            "Trainable params: 591,786\n",
            "Non-trainable params: 0\n",
            "_________________________________________________________________\n"
          ],
          "name": "stdout"
        }
      ]
    },
    {
      "cell_type": "code",
      "metadata": {
        "id": "--2WPeX555SC",
        "colab_type": "code",
        "colab": {}
      },
      "source": [
        "from tensorflow.keras.callbacks import EarlyStopping\n",
        "early_stop = EarlyStopping(monitor='val_loss',patience=2)"
      ],
      "execution_count": 86,
      "outputs": []
    },
    {
      "cell_type": "markdown",
      "metadata": {
        "id": "z5GQ1EAp55SU",
        "colab_type": "text"
      },
      "source": [
        "# training the model"
      ]
    },
    {
      "cell_type": "code",
      "metadata": {
        "id": "fOt4B-BA55Sb",
        "colab_type": "code",
        "colab": {
          "base_uri": "https://localhost:8080/",
          "height": 202
        },
        "outputId": "9926bb21-73ce-40b1-a383-13cb7b179882"
      },
      "source": [
        "model.fit(x_train,y_cat_train,epochs=10,validation_data=(x_test,y_cat_test),callbacks=[early_stop])"
      ],
      "execution_count": 87,
      "outputs": [
        {
          "output_type": "stream",
          "text": [
            "Epoch 1/10\n",
            "1875/1875 [==============================] - 10s 5ms/step - loss: 0.1538 - accuracy: 0.9533 - val_loss: 13.9866 - val_accuracy: 0.9717\n",
            "Epoch 2/10\n",
            "1875/1875 [==============================] - 10s 5ms/step - loss: 0.0565 - accuracy: 0.9823 - val_loss: 38.1240 - val_accuracy: 0.9343\n",
            "Epoch 3/10\n",
            "1875/1875 [==============================] - 10s 5ms/step - loss: 0.0388 - accuracy: 0.9874 - val_loss: 13.8838 - val_accuracy: 0.9797\n",
            "Epoch 4/10\n",
            "1875/1875 [==============================] - 10s 5ms/step - loss: 0.0282 - accuracy: 0.9910 - val_loss: 30.7710 - val_accuracy: 0.9638\n",
            "Epoch 5/10\n",
            "1875/1875 [==============================] - 10s 5ms/step - loss: 0.0225 - accuracy: 0.9922 - val_loss: 39.5029 - val_accuracy: 0.9566\n"
          ],
          "name": "stdout"
        },
        {
          "output_type": "execute_result",
          "data": {
            "text/plain": [
              "<tensorflow.python.keras.callbacks.History at 0x7fc8392dcd68>"
            ]
          },
          "metadata": {
            "tags": []
          },
          "execution_count": 87
        }
      ]
    },
    {
      "cell_type": "markdown",
      "metadata": {
        "id": "18_S2rTV55Sr",
        "colab_type": "text"
      },
      "source": [
        "# evaluate the model"
      ]
    },
    {
      "cell_type": "code",
      "metadata": {
        "id": "rRUKgfts55St",
        "colab_type": "code",
        "colab": {
          "base_uri": "https://localhost:8080/",
          "height": 34
        },
        "outputId": "d3fe48a9-4693-4cc5-8001-4524791f1a21"
      },
      "source": [
        "model.metrics_names"
      ],
      "execution_count": 88,
      "outputs": [
        {
          "output_type": "execute_result",
          "data": {
            "text/plain": [
              "['loss', 'accuracy']"
            ]
          },
          "metadata": {
            "tags": []
          },
          "execution_count": 88
        }
      ]
    },
    {
      "cell_type": "code",
      "metadata": {
        "id": "9eEMpvLT55TB",
        "colab_type": "code",
        "colab": {}
      },
      "source": [
        "history=pd.DataFrame(model.history.history)"
      ],
      "execution_count": 89,
      "outputs": []
    },
    {
      "cell_type": "code",
      "metadata": {
        "id": "dkUj9FAk55TN",
        "colab_type": "code",
        "colab": {
          "base_uri": "https://localhost:8080/",
          "height": 195
        },
        "outputId": "1c037eec-a288-4e17-947b-bcb925412fad"
      },
      "source": [
        "history.head()"
      ],
      "execution_count": 90,
      "outputs": [
        {
          "output_type": "execute_result",
          "data": {
            "text/html": [
              "<div>\n",
              "<style scoped>\n",
              "    .dataframe tbody tr th:only-of-type {\n",
              "        vertical-align: middle;\n",
              "    }\n",
              "\n",
              "    .dataframe tbody tr th {\n",
              "        vertical-align: top;\n",
              "    }\n",
              "\n",
              "    .dataframe thead th {\n",
              "        text-align: right;\n",
              "    }\n",
              "</style>\n",
              "<table border=\"1\" class=\"dataframe\">\n",
              "  <thead>\n",
              "    <tr style=\"text-align: right;\">\n",
              "      <th></th>\n",
              "      <th>loss</th>\n",
              "      <th>accuracy</th>\n",
              "      <th>val_loss</th>\n",
              "      <th>val_accuracy</th>\n",
              "    </tr>\n",
              "  </thead>\n",
              "  <tbody>\n",
              "    <tr>\n",
              "      <th>0</th>\n",
              "      <td>0.153817</td>\n",
              "      <td>0.953283</td>\n",
              "      <td>13.986644</td>\n",
              "      <td>0.9717</td>\n",
              "    </tr>\n",
              "    <tr>\n",
              "      <th>1</th>\n",
              "      <td>0.056525</td>\n",
              "      <td>0.982300</td>\n",
              "      <td>38.124004</td>\n",
              "      <td>0.9343</td>\n",
              "    </tr>\n",
              "    <tr>\n",
              "      <th>2</th>\n",
              "      <td>0.038763</td>\n",
              "      <td>0.987400</td>\n",
              "      <td>13.883762</td>\n",
              "      <td>0.9797</td>\n",
              "    </tr>\n",
              "    <tr>\n",
              "      <th>3</th>\n",
              "      <td>0.028240</td>\n",
              "      <td>0.990983</td>\n",
              "      <td>30.771040</td>\n",
              "      <td>0.9638</td>\n",
              "    </tr>\n",
              "    <tr>\n",
              "      <th>4</th>\n",
              "      <td>0.022517</td>\n",
              "      <td>0.992200</td>\n",
              "      <td>39.502880</td>\n",
              "      <td>0.9566</td>\n",
              "    </tr>\n",
              "  </tbody>\n",
              "</table>\n",
              "</div>"
            ],
            "text/plain": [
              "       loss  accuracy   val_loss  val_accuracy\n",
              "0  0.153817  0.953283  13.986644        0.9717\n",
              "1  0.056525  0.982300  38.124004        0.9343\n",
              "2  0.038763  0.987400  13.883762        0.9797\n",
              "3  0.028240  0.990983  30.771040        0.9638\n",
              "4  0.022517  0.992200  39.502880        0.9566"
            ]
          },
          "metadata": {
            "tags": []
          },
          "execution_count": 90
        }
      ]
    },
    {
      "cell_type": "code",
      "metadata": {
        "id": "QrJAck7P55TX",
        "colab_type": "code",
        "colab": {
          "base_uri": "https://localhost:8080/",
          "height": 282
        },
        "outputId": "53a70593-b59a-41e3-f097-0584173756f2"
      },
      "source": [
        "history[['accuracy','val_accuracy']].plot()"
      ],
      "execution_count": 91,
      "outputs": [
        {
          "output_type": "execute_result",
          "data": {
            "text/plain": [
              "<matplotlib.axes._subplots.AxesSubplot at 0x7fc839fc16d8>"
            ]
          },
          "metadata": {
            "tags": []
          },
          "execution_count": 91
        },
        {
          "output_type": "display_data",
          "data": {
            "image/png": "[encoded data removed]",
            "text/plain": [
              "<Figure size 432x288 with 1 Axes>"
            ]
          },
          "metadata": {
            "tags": [],
            "needs_background": "light"
          }
        }
      ]
    },
    {
      "cell_type": "code",
      "metadata": {
        "id": "aAE-0UlQ55Ts",
        "colab_type": "code",
        "colab": {
          "base_uri": "https://localhost:8080/",
          "height": 34
        },
        "outputId": "958bf921-0cb7-439d-9d2d-300cc60f5967"
      },
      "source": [
        "test_result=model.evaluate(x_test,y_cat_test)"
      ],
      "execution_count": 92,
      "outputs": [
        {
          "output_type": "stream",
          "text": [
            "313/313 [==============================] - 1s 4ms/step - loss: 39.5029 - accuracy: 0.9566\n"
          ],
          "name": "stdout"
        }
      ]
    },
    {
      "cell_type": "code",
      "metadata": {
        "id": "3NInTvW855T8",
        "colab_type": "code",
        "colab": {
          "base_uri": "https://localhost:8080/",
          "height": 34
        },
        "outputId": "6c9aa7b1-6b40-4dd1-85b9-05b8738fa5c4"
      },
      "source": [
        "model.metrics_names"
      ],
      "execution_count": 93,
      "outputs": [
        {
          "output_type": "execute_result",
          "data": {
            "text/plain": [
              "['loss', 'accuracy']"
            ]
          },
          "metadata": {
            "tags": []
          },
          "execution_count": 93
        }
      ]
    },
    {
      "cell_type": "code",
      "metadata": {
        "id": "2a7MMZJO55UG",
        "colab_type": "code",
        "colab": {
          "base_uri": "https://localhost:8080/",
          "height": 106
        },
        "outputId": "e72d9455-7c25-4a7e-8c12-c68ba169bf04"
      },
      "source": [
        "pd.DataFrame(test_result,index=model.metrics_names,columns=['testdata metrics'])"
      ],
      "execution_count": 94,
      "outputs": [
        {
          "output_type": "execute_result",
          "data": {
            "text/html": [
              "<div>\n",
              "<style scoped>\n",
              "    .dataframe tbody tr th:only-of-type {\n",
              "        vertical-align: middle;\n",
              "    }\n",
              "\n",
              "    .dataframe tbody tr th {\n",
              "        vertical-align: top;\n",
              "    }\n",
              "\n",
              "    .dataframe thead th {\n",
              "        text-align: right;\n",
              "    }\n",
              "</style>\n",
              "<table border=\"1\" class=\"dataframe\">\n",
              "  <thead>\n",
              "    <tr style=\"text-align: right;\">\n",
              "      <th></th>\n",
              "      <th>testdata metrics</th>\n",
              "    </tr>\n",
              "  </thead>\n",
              "  <tbody>\n",
              "    <tr>\n",
              "      <th>loss</th>\n",
              "      <td>39.50288</td>\n",
              "    </tr>\n",
              "    <tr>\n",
              "      <th>accuracy</th>\n",
              "      <td>0.95660</td>\n",
              "    </tr>\n",
              "  </tbody>\n",
              "</table>\n",
              "</div>"
            ],
            "text/plain": [
              "          testdata metrics\n",
              "loss              39.50288\n",
              "accuracy           0.95660"
            ]
          },
          "metadata": {
            "tags": []
          },
          "execution_count": 94
        }
      ]
    },
    {
      "cell_type": "code",
      "metadata": {
        "id": "rhMz-2dx55UZ",
        "colab_type": "code",
        "colab": {}
      },
      "source": [
        "from sklearn.metrics import classification_report,confusion_matrix\n"
      ],
      "execution_count": 95,
      "outputs": []
    },
    {
      "cell_type": "code",
      "metadata": {
        "id": "CRgsNewt55Ul",
        "colab_type": "code",
        "colab": {}
      },
      "source": [
        "predictions = model.predict_classes(x_test)"
      ],
      "execution_count": 96,
      "outputs": []
    },
    {
      "cell_type": "code",
      "metadata": {
        "id": "UElEzeLH55U_",
        "colab_type": "code",
        "colab": {
          "base_uri": "https://localhost:8080/",
          "height": 195
        },
        "outputId": "12237a99-8e9d-4649-cec6-017b10369c87"
      },
      "source": [
        "result=pd.DataFrame(y_test,predictions)\n",
        "result.columns=['Predictions']\n",
        "result.head()"
      ],
      "execution_count": 97,
      "outputs": [
        {
          "output_type": "execute_result",
          "data": {
            "text/html": [
              "<div>\n",
              "<style scoped>\n",
              "    .dataframe tbody tr th:only-of-type {\n",
              "        vertical-align: middle;\n",
              "    }\n",
              "\n",
              "    .dataframe tbody tr th {\n",
              "        vertical-align: top;\n",
              "    }\n",
              "\n",
              "    .dataframe thead th {\n",
              "        text-align: right;\n",
              "    }\n",
              "</style>\n",
              "<table border=\"1\" class=\"dataframe\">\n",
              "  <thead>\n",
              "    <tr style=\"text-align: right;\">\n",
              "      <th></th>\n",
              "      <th>Predictions</th>\n",
              "    </tr>\n",
              "  </thead>\n",
              "  <tbody>\n",
              "    <tr>\n",
              "      <th>7</th>\n",
              "      <td>7</td>\n",
              "    </tr>\n",
              "    <tr>\n",
              "      <th>2</th>\n",
              "      <td>2</td>\n",
              "    </tr>\n",
              "    <tr>\n",
              "      <th>1</th>\n",
              "      <td>1</td>\n",
              "    </tr>\n",
              "    <tr>\n",
              "      <th>0</th>\n",
              "      <td>0</td>\n",
              "    </tr>\n",
              "    <tr>\n",
              "      <th>4</th>\n",
              "      <td>4</td>\n",
              "    </tr>\n",
              "  </tbody>\n",
              "</table>\n",
              "</div>"
            ],
            "text/plain": [
              "   Predictions\n",
              "7            7\n",
              "2            2\n",
              "1            1\n",
              "0            0\n",
              "4            4"
            ]
          },
          "metadata": {
            "tags": []
          },
          "execution_count": 97
        }
      ]
    },
    {
      "cell_type": "code",
      "metadata": {
        "id": "EJtuJ4_g55VU",
        "colab_type": "code",
        "colab": {
          "base_uri": "https://localhost:8080/",
          "height": 302
        },
        "outputId": "9de4313b-7817-48be-b832-03d254d10e31"
      },
      "source": [
        "print(classification_report(y_test,predictions))"
      ],
      "execution_count": 98,
      "outputs": [
        {
          "output_type": "stream",
          "text": [
            "              precision    recall  f1-score   support\n",
            "\n",
            "           0       0.99      0.99      0.99       980\n",
            "           1       1.00      0.93      0.96      1135\n",
            "           2       0.98      0.97      0.98      1032\n",
            "           3       0.96      0.99      0.97      1010\n",
            "           4       0.97      0.98      0.97       982\n",
            "           5       1.00      0.91      0.95       892\n",
            "           6       0.98      0.98      0.98       958\n",
            "           7       0.99      0.90      0.95      1028\n",
            "           8       0.77      1.00      0.87       974\n",
            "           9       0.99      0.92      0.96      1009\n",
            "\n",
            "    accuracy                           0.96     10000\n",
            "   macro avg       0.96      0.96      0.96     10000\n",
            "weighted avg       0.96      0.96      0.96     10000\n",
            "\n"
          ],
          "name": "stdout"
        }
      ]
    },
    {
      "cell_type": "code",
      "metadata": {
        "id": "U55pw9Ko55Vj",
        "colab_type": "code",
        "colab": {
          "base_uri": "https://localhost:8080/",
          "height": 668
        },
        "outputId": "2de6c7dc-23fa-44c1-d831-45e56d160ef7"
      },
      "source": [
        "print(confusion_matrix(y_test,predictions))\n",
        "plt.figure(figsize=(12,8))\n",
        "sns.heatmap(confusion_matrix(y_test,predictions),annot=True,cmap='viridis')"
      ],
      "execution_count": 99,
      "outputs": [
        {
          "output_type": "stream",
          "text": [
            "[[ 972    0    1    1    0    0    2    0    4    0]\n",
            " [   0 1050    2    3    1    0    2    0   76    1]\n",
            " [   2    0 1003    1    1    0    4    4   17    0]\n",
            " [   0    0    4  995    0    0    0    0   11    0]\n",
            " [   0    0    0    0  963    0    6    0   10    3]\n",
            " [   3    0    0   19    0  812    7    0   51    0]\n",
            " [   3    1    0    0    1    0  943    0   10    0]\n",
            " [   1    1   13    7   16    0    0  927   60    3]\n",
            " [   1    0    0    0    0    0    0    1  972    0]\n",
            " [   2    0    0    8   14    0    0    0   56  929]]\n"
          ],
          "name": "stdout"
        },
        {
          "output_type": "execute_result",
          "data": {
            "text/plain": [
              "<matplotlib.axes._subplots.AxesSubplot at 0x7fc839bb5358>"
            ]
          },
          "metadata": {
            "tags": []
          },
          "execution_count": 99
        },
        {
          "output_type": "display_data",
          "data": {
            "image/png": "[encoded data removed]",
            "text/plain": [
              "<Figure size 864x576 with 2 Axes>"
            ]
          },
          "metadata": {
            "tags": [],
            "needs_background": "light"
          }
        }
      ]
    },
    {
      "cell_type": "markdown",
      "metadata": {
        "id": "zdQ6C5GIacSr",
        "colab_type": "text"
      },
      "source": [
        "*looks like model is performing quite well, lets see how it forms with various optimizer and fine tuning*"
      ]
    },
    {
      "cell_type": "markdown",
      "metadata": {
        "id": "cTw4dPKr9H3a",
        "colab_type": "text"
      },
      "source": [
        "## ***Various type of optimizer***"
      ]
    },
    {
      "cell_type": "code",
      "metadata": {
        "id": "V4mnWmea9qTU",
        "colab_type": "code",
        "colab": {}
      },
      "source": [
        "def build_model():\n",
        "  model = Sequential()\n",
        "\n",
        "  model.add(Conv2D(filters = 32, kernel_size = (5,5),padding = 'Same', activation ='relu', input_shape = (28,28,1)))\n",
        "  model.add(Conv2D(filters = 32, kernel_size = (5,5),padding = 'Same',activation ='relu'))\n",
        "  model.add(MaxPool2D(pool_size=(2,2)))\n",
        "  model.add(Dropout(0.25))\n",
        "   \n",
        "  model.add(Conv2D(filters = 64, kernel_size = (3,3),padding = 'Same', activation ='relu'))\n",
        "  model.add(Conv2D(filters = 64, kernel_size = (3,3),padding = 'Same', activation ='relu'))\n",
        "  model.add(MaxPool2D(pool_size=(2,2), strides=(2,2)))\n",
        "  model.add(Dropout(0.25))\n",
        "\n",
        "\n",
        "  model.add(Flatten())\n",
        "  model.add(Dense(256, activation = \"relu\"))\n",
        "  model.add(Dropout(0.5))\n",
        "  model.add(Dense(10, activation = \"softmax\"))\n",
        "  return model\n"
      ],
      "execution_count": 100,
      "outputs": []
    },
    {
      "cell_type": "code",
      "metadata": {
        "id": "dlxjjH-755WB",
        "colab_type": "code",
        "colab": {
          "base_uri": "https://localhost:8080/",
          "height": 554
        },
        "outputId": "fa9d8d27-d448-47b2-b2ed-f652642728dc"
      },
      "source": [
        "model=build_model()\n",
        "model.summary()"
      ],
      "execution_count": 101,
      "outputs": [
        {
          "output_type": "stream",
          "text": [
            "Model: \"sequential_8\"\n",
            "_________________________________________________________________\n",
            "Layer (type)                 Output Shape              Param #   \n",
            "=================================================================\n",
            "conv2d_26 (Conv2D)           (None, 28, 28, 32)        832       \n",
            "_________________________________________________________________\n",
            "conv2d_27 (Conv2D)           (None, 28, 28, 32)        25632     \n",
            "_________________________________________________________________\n",
            "max_pooling2d_14 (MaxPooling (None, 14, 14, 32)        0         \n",
            "_________________________________________________________________\n",
            "dropout_20 (Dropout)         (None, 14, 14, 32)        0         \n",
            "_________________________________________________________________\n",
            "conv2d_28 (Conv2D)           (None, 14, 14, 64)        18496     \n",
            "_________________________________________________________________\n",
            "conv2d_29 (Conv2D)           (None, 14, 14, 64)        36928     \n",
            "_________________________________________________________________\n",
            "max_pooling2d_15 (MaxPooling (None, 7, 7, 64)          0         \n",
            "_________________________________________________________________\n",
            "dropout_21 (Dropout)         (None, 7, 7, 64)          0         \n",
            "_________________________________________________________________\n",
            "flatten_8 (Flatten)          (None, 3136)              0         \n",
            "_________________________________________________________________\n",
            "dense_16 (Dense)             (None, 256)               803072    \n",
            "_________________________________________________________________\n",
            "dropout_22 (Dropout)         (None, 256)               0         \n",
            "_________________________________________________________________\n",
            "dense_17 (Dense)             (None, 10)                2570      \n",
            "=================================================================\n",
            "Total params: 887,530\n",
            "Trainable params: 887,530\n",
            "Non-trainable params: 0\n",
            "_________________________________________________________________\n"
          ],
          "name": "stdout"
        }
      ]
    },
    {
      "cell_type": "markdown",
      "metadata": {
        "id": "MYLJkJcEgPt_",
        "colab_type": "text"
      },
      "source": [
        "ADAM OPTIMIZER"
      ]
    },
    {
      "cell_type": "code",
      "metadata": {
        "id": "HHM44j0T55WW",
        "colab_type": "code",
        "colab": {}
      },
      "source": [
        "model=build_model()\n",
        "optimizer=tensorflow.keras.optimizers.Adam(lr=0.001, beta_1=0.9, beta_2=0.999, epsilon=1e-8, decay=1e-5, amsgrad=False)\n",
        "early_stopping = EarlyStopping(monitor='val_loss', mode='min', patience=5, restore_best_weights=True, verbose=1)\n",
        "red_lr = tensorflow.keras.callbacks.ReduceLROnPlateau(monitor='val_loss', mode='min', patience=3, factor=0.5, min_lr=1e-6, verbose=1)\n",
        "model.compile(loss='categorical_crossentropy',optimizer=optimizer,metrics=['accuracy'])"
      ],
      "execution_count": 102,
      "outputs": []
    },
    {
      "cell_type": "code",
      "metadata": {
        "id": "ehruRjbD55Wm",
        "colab_type": "code",
        "colab": {
          "base_uri": "https://localhost:8080/",
          "height": 588
        },
        "outputId": "95045090-8039-4133-eca1-a0ac22f9b8a3"
      },
      "source": [
        "history_adam=model.fit(x_train,y_cat_train,epochs=75,batch_size=256,validation_split=0.2,callbacks=[early_stopping,red_lr]).history"
      ],
      "execution_count": 103,
      "outputs": [
        {
          "output_type": "stream",
          "text": [
            "Epoch 1/75\n",
            "188/188 [==============================] - 7s 37ms/step - loss: 0.3405 - accuracy: 0.8894 - val_loss: 0.0686 - val_accuracy: 0.9793 - lr: 0.0010\n",
            "Epoch 2/75\n",
            "188/188 [==============================] - 7s 36ms/step - loss: 0.0864 - accuracy: 0.9738 - val_loss: 0.0452 - val_accuracy: 0.9872 - lr: 0.0010\n",
            "Epoch 3/75\n",
            "188/188 [==============================] - 7s 36ms/step - loss: 0.0644 - accuracy: 0.9807 - val_loss: 0.0349 - val_accuracy: 0.9903 - lr: 0.0010\n",
            "Epoch 4/75\n",
            "188/188 [==============================] - 7s 35ms/step - loss: 0.0501 - accuracy: 0.9842 - val_loss: 0.0319 - val_accuracy: 0.9909 - lr: 0.0010\n",
            "Epoch 5/75\n",
            "188/188 [==============================] - 7s 35ms/step - loss: 0.0434 - accuracy: 0.9871 - val_loss: 0.0295 - val_accuracy: 0.9917 - lr: 0.0010\n",
            "Epoch 6/75\n",
            "188/188 [==============================] - 7s 35ms/step - loss: 0.0373 - accuracy: 0.9882 - val_loss: 0.0267 - val_accuracy: 0.9917 - lr: 0.0010\n",
            "Epoch 7/75\n",
            "188/188 [==============================] - 7s 35ms/step - loss: 0.0318 - accuracy: 0.9902 - val_loss: 0.0284 - val_accuracy: 0.9924 - lr: 0.0010\n",
            "Epoch 8/75\n",
            "188/188 [==============================] - 7s 35ms/step - loss: 0.0283 - accuracy: 0.9908 - val_loss: 0.0264 - val_accuracy: 0.9929 - lr: 0.0010\n",
            "Epoch 9/75\n",
            "188/188 [==============================] - 7s 35ms/step - loss: 0.0271 - accuracy: 0.9915 - val_loss: 0.0276 - val_accuracy: 0.9916 - lr: 0.0010\n",
            "Epoch 10/75\n",
            "188/188 [==============================] - 7s 35ms/step - loss: 0.0239 - accuracy: 0.9923 - val_loss: 0.0218 - val_accuracy: 0.9939 - lr: 0.0010\n",
            "Epoch 11/75\n",
            "188/188 [==============================] - 7s 35ms/step - loss: 0.0215 - accuracy: 0.9932 - val_loss: 0.0232 - val_accuracy: 0.9936 - lr: 0.0010\n",
            "Epoch 12/75\n",
            "188/188 [==============================] - 7s 35ms/step - loss: 0.0199 - accuracy: 0.9933 - val_loss: 0.0256 - val_accuracy: 0.9933 - lr: 0.0010\n",
            "Epoch 13/75\n",
            "187/188 [============================>.] - ETA: 0s - loss: 0.0176 - accuracy: 0.9941\n",
            "Epoch 00013: ReduceLROnPlateau reducing learning rate to 0.0005000000237487257.\n",
            "188/188 [==============================] - 7s 35ms/step - loss: 0.0177 - accuracy: 0.9941 - val_loss: 0.0234 - val_accuracy: 0.9938 - lr: 0.0010\n",
            "Epoch 14/75\n",
            "188/188 [==============================] - 7s 35ms/step - loss: 0.0123 - accuracy: 0.9958 - val_loss: 0.0225 - val_accuracy: 0.9948 - lr: 5.0000e-04\n",
            "Epoch 15/75\n",
            "187/188 [============================>.] - ETA: 0s - loss: 0.0107 - accuracy: 0.9963Restoring model weights from the end of the best epoch.\n",
            "188/188 [==============================] - 7s 35ms/step - loss: 0.0107 - accuracy: 0.9963 - val_loss: 0.0251 - val_accuracy: 0.9940 - lr: 5.0000e-04\n",
            "Epoch 00015: early stopping\n"
          ],
          "name": "stdout"
        }
      ]
    },
    {
      "cell_type": "code",
      "metadata": {
        "id": "OZYxVd6y55W3",
        "colab_type": "code",
        "colab": {
          "base_uri": "https://localhost:8080/",
          "height": 34
        },
        "outputId": "d5fcf58b-761e-4c72-e6af-6f5d5038dd17"
      },
      "source": [
        "print(\"accuracy on test set with Adam Optimizer is {} %\".format(model.evaluate(x_test, y_cat_test, verbose=0)[1]*100))"
      ],
      "execution_count": 104,
      "outputs": [
        {
          "output_type": "stream",
          "text": [
            "accuracy on test set with Adam Optimizer is 99.40000176429749 %\n"
          ],
          "name": "stdout"
        }
      ]
    },
    {
      "cell_type": "markdown",
      "metadata": {
        "id": "CJpTToHwgWZ6",
        "colab_type": "text"
      },
      "source": [
        "RMS Prop Optimizer"
      ]
    },
    {
      "cell_type": "code",
      "metadata": {
        "id": "kxMhkCoVDI89",
        "colab_type": "code",
        "colab": {
          "base_uri": "https://localhost:8080/",
          "height": 1000
        },
        "outputId": "d66377f9-722b-4d92-bac4-f5acf9aad3c8"
      },
      "source": [
        "model=build_model()\n",
        "optimizer=tensorflow.keras.optimizers.RMSprop(lr=0.001, rho=0.9, epsilon=None, decay=1e-5)\n",
        "early_stopping = EarlyStopping(monitor='val_loss', mode='min', patience=5, restore_best_weights=True, verbose=1)\n",
        "red_lr = tensorflow.keras.callbacks.ReduceLROnPlateau(monitor='val_loss', mode='min', patience=3, factor=0.5, min_lr=1e-6, verbose=1)\n",
        "model.compile(loss='categorical_crossentropy',optimizer=optimizer,metrics=['accuracy'])\n",
        "history_RMSprop=model.fit(x_train,y_cat_train,epochs=75,batch_size=256,validation_split=0.2,callbacks=[early_stopping,red_lr]).history"
      ],
      "execution_count": 105,
      "outputs": [
        {
          "output_type": "stream",
          "text": [
            "Epoch 1/75\n",
            "188/188 [==============================] - 7s 39ms/step - loss: 0.3225 - accuracy: 0.8983 - val_loss: 0.0648 - val_accuracy: 0.9797 - lr: 0.0010\n",
            "Epoch 2/75\n",
            "188/188 [==============================] - 7s 36ms/step - loss: 0.0821 - accuracy: 0.9751 - val_loss: 0.0498 - val_accuracy: 0.9856 - lr: 0.0010\n",
            "Epoch 3/75\n",
            "188/188 [==============================] - 7s 36ms/step - loss: 0.0564 - accuracy: 0.9825 - val_loss: 0.0335 - val_accuracy: 0.9894 - lr: 0.0010\n",
            "Epoch 4/75\n",
            "188/188 [==============================] - 7s 37ms/step - loss: 0.0459 - accuracy: 0.9861 - val_loss: 0.0329 - val_accuracy: 0.9912 - lr: 0.0010\n",
            "Epoch 5/75\n",
            "188/188 [==============================] - 7s 36ms/step - loss: 0.0377 - accuracy: 0.9885 - val_loss: 0.0294 - val_accuracy: 0.9913 - lr: 0.0010\n",
            "Epoch 6/75\n",
            "188/188 [==============================] - 7s 36ms/step - loss: 0.0341 - accuracy: 0.9891 - val_loss: 0.0259 - val_accuracy: 0.9931 - lr: 0.0010\n",
            "Epoch 7/75\n",
            "188/188 [==============================] - 7s 37ms/step - loss: 0.0291 - accuracy: 0.9913 - val_loss: 0.0285 - val_accuracy: 0.9918 - lr: 0.0010\n",
            "Epoch 8/75\n",
            "188/188 [==============================] - 7s 37ms/step - loss: 0.0272 - accuracy: 0.9919 - val_loss: 0.0255 - val_accuracy: 0.9926 - lr: 0.0010\n",
            "Epoch 9/75\n",
            "188/188 [==============================] - 7s 36ms/step - loss: 0.0243 - accuracy: 0.9924 - val_loss: 0.0290 - val_accuracy: 0.9908 - lr: 0.0010\n",
            "Epoch 10/75\n",
            "188/188 [==============================] - 7s 36ms/step - loss: 0.0225 - accuracy: 0.9929 - val_loss: 0.0290 - val_accuracy: 0.9931 - lr: 0.0010\n",
            "Epoch 11/75\n",
            "188/188 [==============================] - 7s 37ms/step - loss: 0.0207 - accuracy: 0.9934 - val_loss: 0.0243 - val_accuracy: 0.9934 - lr: 0.0010\n",
            "Epoch 12/75\n",
            "188/188 [==============================] - 7s 37ms/step - loss: 0.0176 - accuracy: 0.9945 - val_loss: 0.0280 - val_accuracy: 0.9939 - lr: 0.0010\n",
            "Epoch 13/75\n",
            "188/188 [==============================] - 7s 36ms/step - loss: 0.0177 - accuracy: 0.9943 - val_loss: 0.0336 - val_accuracy: 0.9923 - lr: 0.0010\n",
            "Epoch 14/75\n",
            "187/188 [============================>.] - ETA: 0s - loss: 0.0169 - accuracy: 0.9942\n",
            "Epoch 00014: ReduceLROnPlateau reducing learning rate to 0.0005000000237487257.\n",
            "188/188 [==============================] - 7s 36ms/step - loss: 0.0169 - accuracy: 0.9942 - val_loss: 0.0277 - val_accuracy: 0.9933 - lr: 0.0010\n",
            "Epoch 15/75\n",
            "188/188 [==============================] - 7s 36ms/step - loss: 0.0116 - accuracy: 0.9961 - val_loss: 0.0242 - val_accuracy: 0.9948 - lr: 5.0000e-04\n",
            "Epoch 16/75\n",
            "188/188 [==============================] - 7s 36ms/step - loss: 0.0100 - accuracy: 0.9965 - val_loss: 0.0244 - val_accuracy: 0.9943 - lr: 5.0000e-04\n",
            "Epoch 17/75\n",
            "188/188 [==============================] - 7s 36ms/step - loss: 0.0085 - accuracy: 0.9976 - val_loss: 0.0275 - val_accuracy: 0.9936 - lr: 5.0000e-04\n",
            "Epoch 18/75\n",
            "187/188 [============================>.] - ETA: 0s - loss: 0.0092 - accuracy: 0.9972\n",
            "Epoch 00018: ReduceLROnPlateau reducing learning rate to 0.0002500000118743628.\n",
            "188/188 [==============================] - 7s 36ms/step - loss: 0.0093 - accuracy: 0.9971 - val_loss: 0.0267 - val_accuracy: 0.9942 - lr: 5.0000e-04\n",
            "Epoch 19/75\n",
            "188/188 [==============================] - 7s 37ms/step - loss: 0.0068 - accuracy: 0.9977 - val_loss: 0.0245 - val_accuracy: 0.9947 - lr: 2.5000e-04\n",
            "Epoch 20/75\n",
            "188/188 [==============================] - 7s 36ms/step - loss: 0.0059 - accuracy: 0.9982 - val_loss: 0.0237 - val_accuracy: 0.9948 - lr: 2.5000e-04\n",
            "Epoch 21/75\n",
            "188/188 [==============================] - 7s 36ms/step - loss: 0.0058 - accuracy: 0.9981 - val_loss: 0.0269 - val_accuracy: 0.9942 - lr: 2.5000e-04\n",
            "Epoch 22/75\n",
            "188/188 [==============================] - 7s 36ms/step - loss: 0.0061 - accuracy: 0.9980 - val_loss: 0.0267 - val_accuracy: 0.9947 - lr: 2.5000e-04\n",
            "Epoch 23/75\n",
            "188/188 [==============================] - 7s 36ms/step - loss: 0.0056 - accuracy: 0.9983 - val_loss: 0.0222 - val_accuracy: 0.9948 - lr: 2.5000e-04\n",
            "Epoch 24/75\n",
            "188/188 [==============================] - 7s 36ms/step - loss: 0.0057 - accuracy: 0.9982 - val_loss: 0.0232 - val_accuracy: 0.9950 - lr: 2.5000e-04\n",
            "Epoch 25/75\n",
            "188/188 [==============================] - 7s 36ms/step - loss: 0.0052 - accuracy: 0.9983 - val_loss: 0.0268 - val_accuracy: 0.9948 - lr: 2.5000e-04\n",
            "Epoch 26/75\n",
            "187/188 [============================>.] - ETA: 0s - loss: 0.0051 - accuracy: 0.9984\n",
            "Epoch 00026: ReduceLROnPlateau reducing learning rate to 0.0001250000059371814.\n",
            "188/188 [==============================] - 7s 36ms/step - loss: 0.0051 - accuracy: 0.9984 - val_loss: 0.0242 - val_accuracy: 0.9949 - lr: 2.5000e-04\n",
            "Epoch 27/75\n",
            "188/188 [==============================] - 7s 36ms/step - loss: 0.0041 - accuracy: 0.9986 - val_loss: 0.0265 - val_accuracy: 0.9954 - lr: 1.2500e-04\n",
            "Epoch 28/75\n",
            "187/188 [============================>.] - ETA: 0s - loss: 0.0041 - accuracy: 0.9988Restoring model weights from the end of the best epoch.\n",
            "188/188 [==============================] - 7s 36ms/step - loss: 0.0040 - accuracy: 0.9988 - val_loss: 0.0254 - val_accuracy: 0.9949 - lr: 1.2500e-04\n",
            "Epoch 00028: early stopping\n"
          ],
          "name": "stdout"
        }
      ]
    },
    {
      "cell_type": "code",
      "metadata": {
        "id": "927N5pbQ55XI",
        "colab_type": "code",
        "colab": {
          "base_uri": "https://localhost:8080/",
          "height": 34
        },
        "outputId": "f374e375-9ac8-4a62-9f99-34983df27d32"
      },
      "source": [
        "print(\"accuracy on test set with RMS prop Optimizer is {} %\".format(model.evaluate(x_test, y_cat_test, verbose=0)[1]*100))"
      ],
      "execution_count": 106,
      "outputs": [
        {
          "output_type": "stream",
          "text": [
            "accuracy on test set with RMS prop Optimizer is 99.48999881744385 %\n"
          ],
          "name": "stdout"
        }
      ]
    },
    {
      "cell_type": "markdown",
      "metadata": {
        "id": "A0nr7ZHjg96a",
        "colab_type": "text"
      },
      "source": [
        "SGD with Momentum"
      ]
    },
    {
      "cell_type": "code",
      "metadata": {
        "id": "ag65_Rrv55Xa",
        "colab_type": "code",
        "colab": {
          "base_uri": "https://localhost:8080/",
          "height": 1000
        },
        "outputId": "e9a930c7-4520-4a43-ab90-e00452cc3039"
      },
      "source": [
        "model=build_model()\n",
        "optimizer=tensorflow.keras.optimizers.SGD(lr=0.01, momentum=0.9, decay=1e-5)\n",
        "early_stopping = EarlyStopping(monitor='val_loss', mode='min', patience=5, restore_best_weights=True, verbose=1)\n",
        "red_lr = tensorflow.keras.callbacks.ReduceLROnPlateau(monitor='val_loss', mode='min', patience=3, factor=0.5, min_lr=1e-6, verbose=1)\n",
        "model.compile(loss='categorical_crossentropy',optimizer=optimizer,metrics=['accuracy'])\n",
        "history_SGDmomentum=model.fit(x_train,y_cat_train,epochs=75,batch_size=256,validation_split=0.2,callbacks=[early_stopping,red_lr]).history"
      ],
      "execution_count": 107,
      "outputs": [
        {
          "output_type": "stream",
          "text": [
            "Epoch 1/75\n",
            "188/188 [==============================] - 7s 36ms/step - loss: 0.8754 - accuracy: 0.6989 - val_loss: 0.1362 - val_accuracy: 0.9595 - lr: 0.0100\n",
            "Epoch 2/75\n",
            "188/188 [==============================] - 7s 35ms/step - loss: 0.1878 - accuracy: 0.9432 - val_loss: 0.0817 - val_accuracy: 0.9767 - lr: 0.0100\n",
            "Epoch 3/75\n",
            "188/188 [==============================] - 7s 35ms/step - loss: 0.1320 - accuracy: 0.9600 - val_loss: 0.0652 - val_accuracy: 0.9800 - lr: 0.0100\n",
            "Epoch 4/75\n",
            "188/188 [==============================] - 7s 35ms/step - loss: 0.1077 - accuracy: 0.9662 - val_loss: 0.0554 - val_accuracy: 0.9828 - lr: 0.0100\n",
            "Epoch 5/75\n",
            "188/188 [==============================] - 7s 35ms/step - loss: 0.0917 - accuracy: 0.9721 - val_loss: 0.0505 - val_accuracy: 0.9852 - lr: 0.0100\n",
            "Epoch 6/75\n",
            "188/188 [==============================] - 7s 35ms/step - loss: 0.0813 - accuracy: 0.9747 - val_loss: 0.0462 - val_accuracy: 0.9864 - lr: 0.0100\n",
            "Epoch 7/75\n",
            "188/188 [==============================] - 7s 35ms/step - loss: 0.0730 - accuracy: 0.9780 - val_loss: 0.0431 - val_accuracy: 0.9878 - lr: 0.0100\n",
            "Epoch 8/75\n",
            "188/188 [==============================] - 7s 35ms/step - loss: 0.0678 - accuracy: 0.9790 - val_loss: 0.0412 - val_accuracy: 0.9876 - lr: 0.0100\n",
            "Epoch 9/75\n",
            "188/188 [==============================] - 7s 35ms/step - loss: 0.0595 - accuracy: 0.9817 - val_loss: 0.0400 - val_accuracy: 0.9882 - lr: 0.0100\n",
            "Epoch 10/75\n",
            "188/188 [==============================] - 7s 35ms/step - loss: 0.0598 - accuracy: 0.9816 - val_loss: 0.0367 - val_accuracy: 0.9895 - lr: 0.0100\n",
            "Epoch 11/75\n",
            "188/188 [==============================] - 7s 35ms/step - loss: 0.0543 - accuracy: 0.9835 - val_loss: 0.0360 - val_accuracy: 0.9899 - lr: 0.0100\n",
            "Epoch 12/75\n",
            "188/188 [==============================] - 7s 35ms/step - loss: 0.0486 - accuracy: 0.9844 - val_loss: 0.0358 - val_accuracy: 0.9905 - lr: 0.0100\n",
            "Epoch 13/75\n",
            "188/188 [==============================] - 7s 35ms/step - loss: 0.0482 - accuracy: 0.9848 - val_loss: 0.0335 - val_accuracy: 0.9904 - lr: 0.0100\n",
            "Epoch 14/75\n",
            "188/188 [==============================] - 7s 35ms/step - loss: 0.0457 - accuracy: 0.9856 - val_loss: 0.0338 - val_accuracy: 0.9902 - lr: 0.0100\n",
            "Epoch 15/75\n",
            "188/188 [==============================] - 7s 35ms/step - loss: 0.0402 - accuracy: 0.9872 - val_loss: 0.0326 - val_accuracy: 0.9905 - lr: 0.0100\n",
            "Epoch 16/75\n",
            "188/188 [==============================] - 7s 35ms/step - loss: 0.0409 - accuracy: 0.9873 - val_loss: 0.0339 - val_accuracy: 0.9903 - lr: 0.0100\n",
            "Epoch 17/75\n",
            "188/188 [==============================] - 7s 35ms/step - loss: 0.0376 - accuracy: 0.9887 - val_loss: 0.0310 - val_accuracy: 0.9903 - lr: 0.0100\n",
            "Epoch 18/75\n",
            "188/188 [==============================] - 7s 35ms/step - loss: 0.0384 - accuracy: 0.9879 - val_loss: 0.0313 - val_accuracy: 0.9911 - lr: 0.0100\n",
            "Epoch 19/75\n",
            "188/188 [==============================] - 7s 35ms/step - loss: 0.0356 - accuracy: 0.9887 - val_loss: 0.0318 - val_accuracy: 0.9915 - lr: 0.0100\n",
            "Epoch 20/75\n",
            "188/188 [==============================] - 7s 35ms/step - loss: 0.0355 - accuracy: 0.9887 - val_loss: 0.0304 - val_accuracy: 0.9917 - lr: 0.0100\n",
            "Epoch 21/75\n",
            "188/188 [==============================] - 7s 35ms/step - loss: 0.0334 - accuracy: 0.9890 - val_loss: 0.0298 - val_accuracy: 0.9926 - lr: 0.0100\n",
            "Epoch 22/75\n",
            "188/188 [==============================] - 7s 35ms/step - loss: 0.0314 - accuracy: 0.9898 - val_loss: 0.0307 - val_accuracy: 0.9917 - lr: 0.0100\n",
            "Epoch 23/75\n",
            "188/188 [==============================] - 7s 35ms/step - loss: 0.0334 - accuracy: 0.9898 - val_loss: 0.0324 - val_accuracy: 0.9908 - lr: 0.0100\n",
            "Epoch 24/75\n",
            "187/188 [============================>.] - ETA: 0s - loss: 0.0303 - accuracy: 0.9902\n",
            "Epoch 00024: ReduceLROnPlateau reducing learning rate to 0.004999999888241291.\n",
            "188/188 [==============================] - 7s 35ms/step - loss: 0.0303 - accuracy: 0.9902 - val_loss: 0.0304 - val_accuracy: 0.9921 - lr: 0.0100\n",
            "Epoch 25/75\n",
            "188/188 [==============================] - 7s 35ms/step - loss: 0.0288 - accuracy: 0.9906 - val_loss: 0.0289 - val_accuracy: 0.9921 - lr: 0.0050\n",
            "Epoch 26/75\n",
            "188/188 [==============================] - 7s 35ms/step - loss: 0.0262 - accuracy: 0.9917 - val_loss: 0.0288 - val_accuracy: 0.9926 - lr: 0.0050\n",
            "Epoch 27/75\n",
            "188/188 [==============================] - 7s 35ms/step - loss: 0.0255 - accuracy: 0.9920 - val_loss: 0.0289 - val_accuracy: 0.9927 - lr: 0.0050\n",
            "Epoch 28/75\n",
            "188/188 [==============================] - 7s 35ms/step - loss: 0.0252 - accuracy: 0.9917 - val_loss: 0.0281 - val_accuracy: 0.9923 - lr: 0.0050\n",
            "Epoch 29/75\n",
            "188/188 [==============================] - 7s 35ms/step - loss: 0.0231 - accuracy: 0.9927 - val_loss: 0.0295 - val_accuracy: 0.9922 - lr: 0.0050\n",
            "Epoch 30/75\n",
            "188/188 [==============================] - 7s 35ms/step - loss: 0.0246 - accuracy: 0.9919 - val_loss: 0.0276 - val_accuracy: 0.9921 - lr: 0.0050\n",
            "Epoch 31/75\n",
            "188/188 [==============================] - 7s 35ms/step - loss: 0.0234 - accuracy: 0.9923 - val_loss: 0.0293 - val_accuracy: 0.9918 - lr: 0.0050\n",
            "Epoch 32/75\n",
            "188/188 [==============================] - 7s 35ms/step - loss: 0.0225 - accuracy: 0.9927 - val_loss: 0.0281 - val_accuracy: 0.9923 - lr: 0.0050\n",
            "Epoch 33/75\n",
            "187/188 [============================>.] - ETA: 0s - loss: 0.0223 - accuracy: 0.9924\n",
            "Epoch 00033: ReduceLROnPlateau reducing learning rate to 0.0024999999441206455.\n",
            "188/188 [==============================] - 7s 35ms/step - loss: 0.0222 - accuracy: 0.9924 - val_loss: 0.0283 - val_accuracy: 0.9923 - lr: 0.0050\n",
            "Epoch 34/75\n",
            "188/188 [==============================] - 7s 35ms/step - loss: 0.0220 - accuracy: 0.9930 - val_loss: 0.0279 - val_accuracy: 0.9926 - lr: 0.0025\n",
            "Epoch 35/75\n",
            "187/188 [============================>.] - ETA: 0s - loss: 0.0215 - accuracy: 0.9931Restoring model weights from the end of the best epoch.\n",
            "188/188 [==============================] - 7s 35ms/step - loss: 0.0214 - accuracy: 0.9932 - val_loss: 0.0278 - val_accuracy: 0.9924 - lr: 0.0025\n",
            "Epoch 00035: early stopping\n"
          ],
          "name": "stdout"
        }
      ]
    },
    {
      "cell_type": "code",
      "metadata": {
        "id": "uVwBwf-C55X3",
        "colab_type": "code",
        "colab": {
          "base_uri": "https://localhost:8080/",
          "height": 34
        },
        "outputId": "f8484f95-86a4-43e5-bad7-19ce44d89c87"
      },
      "source": [
        "print(\"accuracy on test set with SGD momentum Optimizer is {} %\".format(model.evaluate(x_test, y_cat_test, verbose=0)[1]*100))"
      ],
      "execution_count": 108,
      "outputs": [
        {
          "output_type": "stream",
          "text": [
            "accuracy on test set with SGD momentum Optimizer is 99.22999739646912 %\n"
          ],
          "name": "stdout"
        }
      ]
    },
    {
      "cell_type": "markdown",
      "metadata": {
        "id": "pfW106LGhEba",
        "colab_type": "text"
      },
      "source": [
        "ADAGrad Optimizer"
      ]
    },
    {
      "cell_type": "code",
      "metadata": {
        "id": "i7fKExSj55YD",
        "colab_type": "code",
        "colab": {
          "base_uri": "https://localhost:8080/",
          "height": 1000
        },
        "outputId": "6237874e-aa51-421d-a285-afeeafe4f418"
      },
      "source": [
        "model=build_model()\n",
        "optimizer=tensorflow.keras.optimizers.Adagrad(lr=0.01, epsilon=None, decay=1e-5)\n",
        "early_stopping = EarlyStopping(monitor='val_loss', mode='min', patience=5, restore_best_weights=True, verbose=1)\n",
        "red_lr = tensorflow.keras.callbacks.ReduceLROnPlateau(monitor='val_loss', mode='min', patience=3, factor=0.5, min_lr=1e-6, verbose=1)\n",
        "model.compile(loss='categorical_crossentropy',optimizer=optimizer,metrics=['accuracy'])\n",
        "history_ADAgrad=model.fit(x_train,y_cat_train,epochs=75,batch_size=256,validation_split=0.2,callbacks=[early_stopping,red_lr]).history"
      ],
      "execution_count": 109,
      "outputs": [
        {
          "output_type": "stream",
          "text": [
            "Epoch 1/75\n",
            "188/188 [==============================] - 7s 37ms/step - loss: 1.3409 - accuracy: 0.5368 - val_loss: 0.3062 - val_accuracy: 0.9132 - lr: 0.0100\n",
            "Epoch 2/75\n",
            "188/188 [==============================] - 7s 36ms/step - loss: 0.3808 - accuracy: 0.8815 - val_loss: 0.1585 - val_accuracy: 0.9548 - lr: 0.0100\n",
            "Epoch 3/75\n",
            "188/188 [==============================] - 7s 35ms/step - loss: 0.2455 - accuracy: 0.9230 - val_loss: 0.1143 - val_accuracy: 0.9657 - lr: 0.0100\n",
            "Epoch 4/75\n",
            "188/188 [==============================] - 7s 35ms/step - loss: 0.1945 - accuracy: 0.9400 - val_loss: 0.0929 - val_accuracy: 0.9714 - lr: 0.0100\n",
            "Epoch 5/75\n",
            "188/188 [==============================] - 7s 35ms/step - loss: 0.1618 - accuracy: 0.9501 - val_loss: 0.0842 - val_accuracy: 0.9744 - lr: 0.0100\n",
            "Epoch 6/75\n",
            "188/188 [==============================] - 7s 35ms/step - loss: 0.1448 - accuracy: 0.9556 - val_loss: 0.0725 - val_accuracy: 0.9775 - lr: 0.0100\n",
            "Epoch 7/75\n",
            "188/188 [==============================] - 7s 35ms/step - loss: 0.1286 - accuracy: 0.9604 - val_loss: 0.0649 - val_accuracy: 0.9803 - lr: 0.0100\n",
            "Epoch 8/75\n",
            "188/188 [==============================] - 7s 35ms/step - loss: 0.1166 - accuracy: 0.9630 - val_loss: 0.0654 - val_accuracy: 0.9802 - lr: 0.0100\n",
            "Epoch 9/75\n",
            "188/188 [==============================] - 7s 35ms/step - loss: 0.1070 - accuracy: 0.9673 - val_loss: 0.0599 - val_accuracy: 0.9816 - lr: 0.0100\n",
            "Epoch 10/75\n",
            "188/188 [==============================] - 7s 35ms/step - loss: 0.1032 - accuracy: 0.9682 - val_loss: 0.0554 - val_accuracy: 0.9829 - lr: 0.0100\n",
            "Epoch 11/75\n",
            "188/188 [==============================] - 7s 35ms/step - loss: 0.0955 - accuracy: 0.9703 - val_loss: 0.0521 - val_accuracy: 0.9847 - lr: 0.0100\n",
            "Epoch 12/75\n",
            "188/188 [==============================] - 7s 35ms/step - loss: 0.0903 - accuracy: 0.9717 - val_loss: 0.0533 - val_accuracy: 0.9839 - lr: 0.0100\n",
            "Epoch 13/75\n",
            "188/188 [==============================] - 7s 35ms/step - loss: 0.0880 - accuracy: 0.9726 - val_loss: 0.0481 - val_accuracy: 0.9856 - lr: 0.0100\n",
            "Epoch 14/75\n",
            "188/188 [==============================] - 7s 35ms/step - loss: 0.0818 - accuracy: 0.9745 - val_loss: 0.0456 - val_accuracy: 0.9864 - lr: 0.0100\n",
            "Epoch 15/75\n",
            "188/188 [==============================] - 7s 35ms/step - loss: 0.0794 - accuracy: 0.9757 - val_loss: 0.0453 - val_accuracy: 0.9868 - lr: 0.0100\n",
            "Epoch 16/75\n",
            "188/188 [==============================] - 7s 35ms/step - loss: 0.0776 - accuracy: 0.9761 - val_loss: 0.0434 - val_accuracy: 0.9872 - lr: 0.0100\n",
            "Epoch 17/75\n",
            "188/188 [==============================] - 7s 35ms/step - loss: 0.0726 - accuracy: 0.9777 - val_loss: 0.0434 - val_accuracy: 0.9875 - lr: 0.0100\n",
            "Epoch 18/75\n",
            "188/188 [==============================] - 7s 35ms/step - loss: 0.0710 - accuracy: 0.9783 - val_loss: 0.0412 - val_accuracy: 0.9883 - lr: 0.0100\n",
            "Epoch 19/75\n",
            "188/188 [==============================] - 7s 35ms/step - loss: 0.0681 - accuracy: 0.9792 - val_loss: 0.0416 - val_accuracy: 0.9877 - lr: 0.0100\n",
            "Epoch 20/75\n",
            "188/188 [==============================] - 7s 35ms/step - loss: 0.0647 - accuracy: 0.9801 - val_loss: 0.0414 - val_accuracy: 0.9882 - lr: 0.0100\n",
            "Epoch 21/75\n",
            "188/188 [==============================] - 7s 35ms/step - loss: 0.0668 - accuracy: 0.9795 - val_loss: 0.0404 - val_accuracy: 0.9887 - lr: 0.0100\n",
            "Epoch 22/75\n",
            "188/188 [==============================] - 7s 35ms/step - loss: 0.0647 - accuracy: 0.9800 - val_loss: 0.0392 - val_accuracy: 0.9883 - lr: 0.0100\n",
            "Epoch 23/75\n",
            "188/188 [==============================] - 7s 35ms/step - loss: 0.0610 - accuracy: 0.9807 - val_loss: 0.0380 - val_accuracy: 0.9897 - lr: 0.0100\n",
            "Epoch 24/75\n",
            "188/188 [==============================] - 7s 35ms/step - loss: 0.0604 - accuracy: 0.9813 - val_loss: 0.0373 - val_accuracy: 0.9894 - lr: 0.0100\n",
            "Epoch 25/75\n",
            "188/188 [==============================] - 7s 35ms/step - loss: 0.0589 - accuracy: 0.9814 - val_loss: 0.0368 - val_accuracy: 0.9900 - lr: 0.0100\n",
            "Epoch 26/75\n",
            "188/188 [==============================] - 7s 35ms/step - loss: 0.0577 - accuracy: 0.9820 - val_loss: 0.0375 - val_accuracy: 0.9894 - lr: 0.0100\n",
            "Epoch 27/75\n",
            "188/188 [==============================] - 7s 35ms/step - loss: 0.0568 - accuracy: 0.9825 - val_loss: 0.0363 - val_accuracy: 0.9899 - lr: 0.0100\n",
            "Epoch 28/75\n",
            "188/188 [==============================] - 7s 35ms/step - loss: 0.0543 - accuracy: 0.9832 - val_loss: 0.0375 - val_accuracy: 0.9898 - lr: 0.0100\n",
            "Epoch 29/75\n",
            "188/188 [==============================] - 7s 35ms/step - loss: 0.0525 - accuracy: 0.9827 - val_loss: 0.0359 - val_accuracy: 0.9902 - lr: 0.0100\n",
            "Epoch 30/75\n",
            "188/188 [==============================] - 7s 35ms/step - loss: 0.0510 - accuracy: 0.9839 - val_loss: 0.0346 - val_accuracy: 0.9899 - lr: 0.0100\n",
            "Epoch 31/75\n",
            "188/188 [==============================] - 7s 35ms/step - loss: 0.0511 - accuracy: 0.9841 - val_loss: 0.0351 - val_accuracy: 0.9898 - lr: 0.0100\n",
            "Epoch 32/75\n",
            "188/188 [==============================] - 7s 35ms/step - loss: 0.0487 - accuracy: 0.9842 - val_loss: 0.0349 - val_accuracy: 0.9903 - lr: 0.0100\n",
            "Epoch 33/75\n",
            "187/188 [============================>.] - ETA: 0s - loss: 0.0510 - accuracy: 0.9842\n",
            "Epoch 00033: ReduceLROnPlateau reducing learning rate to 0.004999999888241291.\n",
            "188/188 [==============================] - 7s 35ms/step - loss: 0.0510 - accuracy: 0.9841 - val_loss: 0.0349 - val_accuracy: 0.9905 - lr: 0.0100\n",
            "Epoch 34/75\n",
            "188/188 [==============================] - 7s 35ms/step - loss: 0.0488 - accuracy: 0.9849 - val_loss: 0.0347 - val_accuracy: 0.9905 - lr: 0.0050\n",
            "Epoch 35/75\n",
            "188/188 [==============================] - 7s 35ms/step - loss: 0.0466 - accuracy: 0.9856 - val_loss: 0.0335 - val_accuracy: 0.9907 - lr: 0.0050\n",
            "Epoch 36/75\n",
            "188/188 [==============================] - 7s 35ms/step - loss: 0.0476 - accuracy: 0.9853 - val_loss: 0.0335 - val_accuracy: 0.9908 - lr: 0.0050\n",
            "Epoch 37/75\n",
            "188/188 [==============================] - 7s 35ms/step - loss: 0.0463 - accuracy: 0.9855 - val_loss: 0.0328 - val_accuracy: 0.9908 - lr: 0.0050\n",
            "Epoch 38/75\n",
            "188/188 [==============================] - 7s 35ms/step - loss: 0.0457 - accuracy: 0.9859 - val_loss: 0.0334 - val_accuracy: 0.9904 - lr: 0.0050\n",
            "Epoch 39/75\n",
            "188/188 [==============================] - 7s 35ms/step - loss: 0.0467 - accuracy: 0.9853 - val_loss: 0.0337 - val_accuracy: 0.9903 - lr: 0.0050\n",
            "Epoch 40/75\n",
            "187/188 [============================>.] - ETA: 0s - loss: 0.0442 - accuracy: 0.9861\n",
            "Epoch 00040: ReduceLROnPlateau reducing learning rate to 0.0024999999441206455.\n",
            "188/188 [==============================] - 7s 35ms/step - loss: 0.0442 - accuracy: 0.9861 - val_loss: 0.0328 - val_accuracy: 0.9908 - lr: 0.0050\n",
            "Epoch 41/75\n",
            "188/188 [==============================] - 7s 36ms/step - loss: 0.0447 - accuracy: 0.9858 - val_loss: 0.0324 - val_accuracy: 0.9909 - lr: 0.0025\n",
            "Epoch 42/75\n",
            "188/188 [==============================] - 7s 35ms/step - loss: 0.0435 - accuracy: 0.9864 - val_loss: 0.0327 - val_accuracy: 0.9908 - lr: 0.0025\n",
            "Epoch 43/75\n",
            "188/188 [==============================] - 7s 35ms/step - loss: 0.0428 - accuracy: 0.9864 - val_loss: 0.0329 - val_accuracy: 0.9909 - lr: 0.0025\n",
            "Epoch 44/75\n",
            "187/188 [============================>.] - ETA: 0s - loss: 0.0418 - accuracy: 0.9865\n",
            "Epoch 00044: ReduceLROnPlateau reducing learning rate to 0.0012499999720603228.\n",
            "188/188 [==============================] - 7s 35ms/step - loss: 0.0421 - accuracy: 0.9864 - val_loss: 0.0334 - val_accuracy: 0.9907 - lr: 0.0025\n",
            "Epoch 45/75\n",
            "188/188 [==============================] - 7s 35ms/step - loss: 0.0433 - accuracy: 0.9861 - val_loss: 0.0327 - val_accuracy: 0.9908 - lr: 0.0012\n",
            "Epoch 46/75\n",
            "187/188 [============================>.] - ETA: 0s - loss: 0.0436 - accuracy: 0.9865Restoring model weights from the end of the best epoch.\n",
            "188/188 [==============================] - 7s 36ms/step - loss: 0.0436 - accuracy: 0.9865 - val_loss: 0.0327 - val_accuracy: 0.9908 - lr: 0.0012\n",
            "Epoch 00046: early stopping\n"
          ],
          "name": "stdout"
        }
      ]
    },
    {
      "cell_type": "code",
      "metadata": {
        "id": "g02nEaFF55YP",
        "colab_type": "code",
        "colab": {
          "base_uri": "https://localhost:8080/",
          "height": 34
        },
        "outputId": "04806d05-53df-4d00-89a7-eedd22ac0e18"
      },
      "source": [
        "print(\"accuracy on test set with ADA Grad optimizer is {} %\".format(model.evaluate(x_test, y_cat_test, verbose=0)[1]*100))"
      ],
      "execution_count": 110,
      "outputs": [
        {
          "output_type": "stream",
          "text": [
            "accuracy on test set with ADA Grad optimizer is 99.1599977016449 %\n"
          ],
          "name": "stdout"
        }
      ]
    },
    {
      "cell_type": "markdown",
      "metadata": {
        "id": "Wk8Ggb1shPqg",
        "colab_type": "text"
      },
      "source": [
        "Visulazing Performance of Various Optimizer"
      ]
    },
    {
      "cell_type": "code",
      "metadata": {
        "id": "RpJS7Tix55Yb",
        "colab_type": "code",
        "colab": {
          "base_uri": "https://localhost:8080/",
          "height": 421
        },
        "outputId": "7f55eff4-88f4-4b71-fd4d-6f3f9f737d7b"
      },
      "source": [
        "plt.figure(figsize=(6,6))\n",
        "plt.plot(history_adam[\"val_loss\"],label=\"validation loss adam\")\n",
        "plt.plot(history_ADAgrad[\"val_loss\"],label=\"validation loss with ADAGrad\")\n",
        "plt.plot(history_RMSprop[\"val_loss\"],label=\"validation loss with RMS prop\")\n",
        "plt.plot(history_SGDmomentum[\"val_loss\"],label=\"validation loss with SGD with momentum\")\n",
        "plt.legend()\n",
        "plt.xlabel(\"Epochs\")\n",
        "plt.ylabel(\"Validation Loss\")\n",
        "plt.title(\"Validation Loss of different optimizers v/s Epochs\")"
      ],
      "execution_count": 111,
      "outputs": [
        {
          "output_type": "execute_result",
          "data": {
            "text/plain": [
              "Text(0.5, 1.0, 'Validation Loss of different optimizers v/s Epochs')"
            ]
          },
          "metadata": {
            "tags": []
          },
          "execution_count": 111
        },
        {
          "output_type": "display_data",
          "data": {
            "image/png": "[encoded data removed]",
            "text/plain": [
              "<Figure size 432x432 with 1 Axes>"
            ]
          },
          "metadata": {
            "tags": [],
            "needs_background": "light"
          }
        }
      ]
    },
    {
      "cell_type": "markdown",
      "metadata": {
        "id": "sktq0Qq2h6o-",
        "colab_type": "text"
      },
      "source": [
        "# **FINE TUNING WITH ADAM OPTIMIZER**"
      ]
    },
    {
      "cell_type": "code",
      "metadata": {
        "id": "cCVZLTWb55Yp",
        "colab_type": "code",
        "colab": {}
      },
      "source": [
        "model=build_model()\n",
        "optimizer=tensorflow.keras.optimizers.Adam(lr=0.001, beta_1=0.9, beta_2=0.999, epsilon=1e-8, decay=1e-5, amsgrad=False)\n",
        "early_stopping = EarlyStopping(monitor='val_loss', mode='min', patience=5, restore_best_weights=True, verbose=1)\n",
        "red_lr = tensorflow.keras.callbacks.ReduceLROnPlateau(monitor='val_loss', mode='min', patience=3, factor=0.5, min_lr=1e-6, verbose=1)\n",
        "model.compile(loss='categorical_crossentropy',optimizer=optimizer,metrics=['accuracy'])"
      ],
      "execution_count": 112,
      "outputs": []
    },
    {
      "cell_type": "code",
      "metadata": {
        "id": "U3dmFd7R55Yw",
        "colab_type": "code",
        "colab": {
          "base_uri": "https://localhost:8080/",
          "height": 588
        },
        "outputId": "5611507a-5f60-4223-c1ed-61eb49cef1bf"
      },
      "source": [
        "history_adam_1=model.fit(x_train,y_cat_train,epochs=75,batch_size=128,validation_split=0.2,callbacks=[early_stopping,red_lr]).history"
      ],
      "execution_count": 113,
      "outputs": [
        {
          "output_type": "stream",
          "text": [
            "Epoch 1/75\n",
            "375/375 [==============================] - 8s 22ms/step - loss: 0.2560 - accuracy: 0.9175 - val_loss: 0.0571 - val_accuracy: 0.9829 - lr: 0.0010\n",
            "Epoch 2/75\n",
            "375/375 [==============================] - 8s 21ms/step - loss: 0.0759 - accuracy: 0.9769 - val_loss: 0.0429 - val_accuracy: 0.9868 - lr: 0.0010\n",
            "Epoch 3/75\n",
            "375/375 [==============================] - 8s 21ms/step - loss: 0.0572 - accuracy: 0.9828 - val_loss: 0.0393 - val_accuracy: 0.9896 - lr: 0.0010\n",
            "Epoch 4/75\n",
            "375/375 [==============================] - 8s 20ms/step - loss: 0.0462 - accuracy: 0.9859 - val_loss: 0.0296 - val_accuracy: 0.9918 - lr: 0.0010\n",
            "Epoch 5/75\n",
            "375/375 [==============================] - 8s 21ms/step - loss: 0.0388 - accuracy: 0.9877 - val_loss: 0.0323 - val_accuracy: 0.9913 - lr: 0.0010\n",
            "Epoch 6/75\n",
            "375/375 [==============================] - 8s 20ms/step - loss: 0.0343 - accuracy: 0.9895 - val_loss: 0.0319 - val_accuracy: 0.9909 - lr: 0.0010\n",
            "Epoch 7/75\n",
            "373/375 [============================>.] - ETA: 0s - loss: 0.0311 - accuracy: 0.9905\n",
            "Epoch 00007: ReduceLROnPlateau reducing learning rate to 0.0005000000237487257.\n",
            "375/375 [==============================] - 8s 20ms/step - loss: 0.0311 - accuracy: 0.9904 - val_loss: 0.0356 - val_accuracy: 0.9895 - lr: 0.0010\n",
            "Epoch 8/75\n",
            "375/375 [==============================] - 8s 20ms/step - loss: 0.0193 - accuracy: 0.9933 - val_loss: 0.0264 - val_accuracy: 0.9932 - lr: 5.0000e-04\n",
            "Epoch 9/75\n",
            "375/375 [==============================] - 8s 20ms/step - loss: 0.0171 - accuracy: 0.9943 - val_loss: 0.0227 - val_accuracy: 0.9932 - lr: 5.0000e-04\n",
            "Epoch 10/75\n",
            "375/375 [==============================] - 8s 20ms/step - loss: 0.0161 - accuracy: 0.9947 - val_loss: 0.0230 - val_accuracy: 0.9941 - lr: 5.0000e-04\n",
            "Epoch 11/75\n",
            "375/375 [==============================] - 8s 20ms/step - loss: 0.0148 - accuracy: 0.9952 - val_loss: 0.0254 - val_accuracy: 0.9936 - lr: 5.0000e-04\n",
            "Epoch 12/75\n",
            "373/375 [============================>.] - ETA: 0s - loss: 0.0140 - accuracy: 0.9955\n",
            "Epoch 00012: ReduceLROnPlateau reducing learning rate to 0.0002500000118743628.\n",
            "375/375 [==============================] - 8s 20ms/step - loss: 0.0141 - accuracy: 0.9955 - val_loss: 0.0253 - val_accuracy: 0.9935 - lr: 5.0000e-04\n",
            "Epoch 13/75\n",
            "375/375 [==============================] - 8s 20ms/step - loss: 0.0098 - accuracy: 0.9968 - val_loss: 0.0244 - val_accuracy: 0.9940 - lr: 2.5000e-04\n",
            "Epoch 14/75\n",
            "375/375 [==============================] - ETA: 0s - loss: 0.0088 - accuracy: 0.9971Restoring model weights from the end of the best epoch.\n",
            "375/375 [==============================] - 8s 20ms/step - loss: 0.0088 - accuracy: 0.9971 - val_loss: 0.0258 - val_accuracy: 0.9938 - lr: 2.5000e-04\n",
            "Epoch 00014: early stopping\n"
          ],
          "name": "stdout"
        }
      ]
    },
    {
      "cell_type": "code",
      "metadata": {
        "id": "ue7HYCDc55ZM",
        "colab_type": "code",
        "colab": {
          "base_uri": "https://localhost:8080/",
          "height": 34
        },
        "outputId": "9b4479c7-ddea-4699-e172-46faae349b08"
      },
      "source": [
        "print(\"accuracy on test set with Adam Optimizer after fine tuning is {} %\".format(model.evaluate(x_test, y_cat_test, verbose=0)[1]*100))"
      ],
      "execution_count": 114,
      "outputs": [
        {
          "output_type": "stream",
          "text": [
            "accuracy on test set with Adam Optimizer after fine tuning is 99.50000047683716 %\n"
          ],
          "name": "stdout"
        }
      ]
    },
    {
      "cell_type": "code",
      "metadata": {
        "id": "GC3-7YLpVjL4",
        "colab_type": "code",
        "colab": {
          "base_uri": "https://localhost:8080/",
          "height": 367
        },
        "outputId": "bde68b38-a274-406a-a99c-82590441e803"
      },
      "source": [
        "plt.figure(figsize=(5,5))\n",
        "plt.plot(history_adam_1[\"val_loss\"],label=\"validation loss\")\n",
        "plt.plot(history_adam_1[\"loss\"],label=\"Train Loss\")\n",
        "\n",
        "plt.legend()\n",
        "plt.xlabel(\"Epochs\")\n",
        "plt.ylabel(\"Validation Loss\")\n",
        "plt.title(\"Loss v/s Epochs\")"
      ],
      "execution_count": 115,
      "outputs": [
        {
          "output_type": "execute_result",
          "data": {
            "text/plain": [
              "Text(0.5, 1.0, 'Loss v/s Epochs')"
            ]
          },
          "metadata": {
            "tags": []
          },
          "execution_count": 115
        },
        {
          "output_type": "display_data",
          "data": {
            "image/png": "[encoded data removed]",
            "text/plain": [
              "<Figure size 360x360 with 1 Axes>"
            ]
          },
          "metadata": {
            "tags": [],
            "needs_background": "light"
          }
        }
      ]
    },
    {
      "cell_type": "code",
      "metadata": {
        "id": "JqYRSXrBVnRK",
        "colab_type": "code",
        "colab": {
          "base_uri": "https://localhost:8080/",
          "height": 367
        },
        "outputId": "0bc45f05-88e6-4778-9484-c26bc939e21b"
      },
      "source": [
        "plt.figure(figsize=(5,5))\n",
        "plt.plot(history_adam_1[\"val_accuracy\"],label=\"validation accuracy\")\n",
        "plt.plot(history_adam_1[\"accuracy\"],label=\"Train accuracy\")\n",
        "\n",
        "plt.legend()\n",
        "plt.xlabel(\"Epochs\")\n",
        "plt.ylabel(\"Validation Loss\")\n",
        "plt.title(\"Loss v/s Epochs\") "
      ],
      "execution_count": 116,
      "outputs": [
        {
          "output_type": "execute_result",
          "data": {
            "text/plain": [
              "Text(0.5, 1.0, 'Loss v/s Epochs')"
            ]
          },
          "metadata": {
            "tags": []
          },
          "execution_count": 116
        },
        {
          "output_type": "display_data",
          "data": {
            "image/png": "[encoded data removed]",
            "text/plain": [
              "<Figure size 360x360 with 1 Axes>"
            ]
          },
          "metadata": {
            "tags": [],
            "needs_background": "light"
          }
        }
      ]
    },
    {
      "cell_type": "code",
      "metadata": {
        "id": "q75_kPVQY20F",
        "colab_type": "code",
        "colab": {
          "base_uri": "https://localhost:8080/",
          "height": 954
        },
        "outputId": "a3b59b9e-11f9-48a9-97be-3b7d7d3f7a94"
      },
      "source": [
        "predictions=model.predict_classes(x_test)\n",
        "print(classification_report(y_test,predictions))\n",
        "print(confusion_matrix(y_test,predictions))\n",
        "plt.figure(figsize=(12,8))\n",
        "sns.heatmap(confusion_matrix(y_test,predictions),annot=True,cmap='viridis')\n"
      ],
      "execution_count": 117,
      "outputs": [
        {
          "output_type": "stream",
          "text": [
            "              precision    recall  f1-score   support\n",
            "\n",
            "           0       0.99      1.00      1.00       980\n",
            "           1       1.00      1.00      1.00      1135\n",
            "           2       0.99      1.00      0.99      1032\n",
            "           3       0.99      1.00      1.00      1010\n",
            "           4       0.99      1.00      0.99       982\n",
            "           5       1.00      0.99      0.99       892\n",
            "           6       1.00      0.99      0.99       958\n",
            "           7       0.99      1.00      0.99      1028\n",
            "           8       1.00      0.99      1.00       974\n",
            "           9       1.00      0.99      0.99      1009\n",
            "\n",
            "    accuracy                           0.99     10000\n",
            "   macro avg       1.00      0.99      0.99     10000\n",
            "weighted avg       1.00      0.99      0.99     10000\n",
            "\n",
            "[[ 979    0    0    0    0    0    0    1    0    0]\n",
            " [   0 1133    1    1    0    0    0    0    0    0]\n",
            " [   2    0 1027    0    1    0    0    2    0    0]\n",
            " [   0    0    0 1008    0    2    0    0    0    0]\n",
            " [   0    0    0    0  978    0    0    0    0    4]\n",
            " [   0    0    0    4    0  887    1    0    0    0]\n",
            " [   4    2    0    0    4    0  947    0    1    0]\n",
            " [   0    2    2    0    0    0    0 1023    1    0]\n",
            " [   1    0    2    1    0    1    0    0  968    1]\n",
            " [   0    0    1    0    4    1    0    3    0 1000]]\n"
          ],
          "name": "stdout"
        },
        {
          "output_type": "execute_result",
          "data": {
            "text/plain": [
              "<matplotlib.axes._subplots.AxesSubplot at 0x7fc837435e80>"
            ]
          },
          "metadata": {
            "tags": []
          },
          "execution_count": 117
        },
        {
          "output_type": "display_data",
          "data": {
            "image/png": "[encoded data removed]",
            "text/plain": [
              "<Figure size 864x576 with 2 Axes>"
            ]
          },
          "metadata": {
            "tags": [],
            "needs_background": "light"
          }
        }
      ]
    },
    {
      "cell_type": "markdown",
      "metadata": {
        "id": "3cX1sncX55aj",
        "colab_type": "text"
      },
      "source": [
        "## predicting on a single test image"
      ]
    },
    {
      "cell_type": "code",
      "metadata": {
        "id": "aixqhBK255am",
        "colab_type": "code",
        "colab": {}
      },
      "source": [
        "single_image_x=x_train[5]"
      ],
      "execution_count": 118,
      "outputs": []
    },
    {
      "cell_type": "code",
      "metadata": {
        "id": "sch31fjL55ay",
        "colab_type": "code",
        "colab": {
          "base_uri": "https://localhost:8080/",
          "height": 34
        },
        "outputId": "87abcaa1-2a74-4262-c714-86b09d964a35"
      },
      "source": [
        "single_image_x.shape"
      ],
      "execution_count": 119,
      "outputs": [
        {
          "output_type": "execute_result",
          "data": {
            "text/plain": [
              "(28, 28, 1)"
            ]
          },
          "metadata": {
            "tags": []
          },
          "execution_count": 119
        }
      ]
    },
    {
      "cell_type": "code",
      "metadata": {
        "id": "Vi2l4jDN55a6",
        "colab_type": "code",
        "colab": {
          "base_uri": "https://localhost:8080/",
          "height": 34
        },
        "outputId": "8534dfc2-a716-4ce0-9200-dbf2f930f1d2"
      },
      "source": [
        "model.predict_classes(single_image_x.reshape(1,28,28,1))"
      ],
      "execution_count": 120,
      "outputs": [
        {
          "output_type": "execute_result",
          "data": {
            "text/plain": [
              "array([2])"
            ]
          },
          "metadata": {
            "tags": []
          },
          "execution_count": 120
        }
      ]
    },
    {
      "cell_type": "code",
      "metadata": {
        "id": "16tTODHM55bF",
        "colab_type": "code",
        "colab": {
          "base_uri": "https://localhost:8080/",
          "height": 282
        },
        "outputId": "4b54c3f1-ba02-4af3-f317-4a6755da04ce"
      },
      "source": [
        "plt.imshow(single_image_x.reshape(28,28))"
      ],
      "execution_count": 121,
      "outputs": [
        {
          "output_type": "execute_result",
          "data": {
            "text/plain": [
              "<matplotlib.image.AxesImage at 0x7fc834681438>"
            ]
          },
          "metadata": {
            "tags": []
          },
          "execution_count": 121
        },
        {
          "output_type": "display_data",
          "data": {
            "image/png": "[encoded data removed]",
            "text/plain": [
              "<Figure size 432x288 with 1 Axes>"
            ]
          },
          "metadata": {
            "tags": [],
            "needs_background": "light"
          }
        }
      ]
    },
    {
      "cell_type": "code",
      "metadata": {
        "colab_type": "code",
        "id": "gOOFwiVsjcSz",
        "colab": {}
      },
      "source": [
        "## looks like modelis performing quite well. For more accuracy I have to use Image Generator to get more train data and pervent overfiting. \n",
        "#As I got more than 99.5 percent accuracy on Test data so data augmentaion may be avoided.\n"
      ],
      "execution_count": 122,
      "outputs": []
    },
    {
      "cell_type": "code",
      "metadata": {
        "colab_type": "code",
        "id": "QHYOpyGgjgst",
        "colab": {}
      },
      "source": [
        ""
      ],
      "execution_count": 122,
      "outputs": []
    },
    {
      "cell_type": "code",
      "metadata": {
        "id": "CeBUmSIm55bV",
        "colab_type": "code",
        "colab": {}
      },
      "source": [
        ""
      ],
      "execution_count": 122,
      "outputs": []
    }
  ]
}